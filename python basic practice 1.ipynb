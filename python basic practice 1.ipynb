{
 "cells": [
  {
   "cell_type": "markdown",
   "metadata": {},
   "source": [
    "## Question1"
   ]
  },
  {
   "cell_type": "markdown",
   "metadata": {},
   "source": [
    "Given an English word. Write a function count_vc(word) to return the total number of vowel letters and consonant letters in the word. (hint, vowels are a, e, i, o, u and sometimes y). "
   ]
  },
  {
   "cell_type": "code",
   "execution_count": 141,
   "metadata": {},
   "outputs": [
    {
     "name": "stdout",
     "output_type": "stream",
     "text": [
      "(2, 4)\n",
      "(1, 3)\n",
      "(4, 6)\n",
      "(1, 2)\n"
     ]
    }
   ],
   "source": [
    "##method 1 \n",
    "\n",
    "#define a function\n",
    "def count_vec(word):\n",
    "    word = word.lower()\n",
    "    #define vowel\n",
    "    vowels = \"aeiou\"\n",
    "    #define number of vowel \n",
    "    nvowels = 0\n",
    "    #loop based on the index of char\n",
    "    for i in range(len(word)):\n",
    "        ch = word[i]\n",
    "        if ch in vowels: #is vowel\n",
    "            nvowels += 1\n",
    "        elif ch == \"y\" and i !=0: #is y and not the first letter\n",
    "                nvowels += 1\n",
    "    return nvowels, len(word)-nvowels\n",
    "\n",
    "print(count_vec(\"Python\")) #Case1\n",
    "print(count_vec(\"bank\")) #Case2\n",
    "print(count_vec(\"hypothesis\")) #Case3\n",
    "print(count_vec(\"yes\")) #Case4"
   ]
  },
  {
   "cell_type": "code",
   "execution_count": 142,
   "metadata": {},
   "outputs": [
    {
     "name": "stdout",
     "output_type": "stream",
     "text": [
      "(2, 4)\n",
      "(1, 3)\n",
      "(4, 6)\n",
      "(1, 2)\n"
     ]
    }
   ],
   "source": [
    "##method 2\n",
    "\n",
    "#define a function\n",
    "def count_vec(word):\n",
    "    #change all characters to lowercase\n",
    "    word = word.lower()\n",
    "    #define vowel including y\n",
    "    vowels = \"aeiouy\"\n",
    "    #define num for vowels\n",
    "    nvowels = 0\n",
    "    #check whether each char in the words \n",
    "    for letter in word:\n",
    "        if letter in vowels: # is in defined vowel\n",
    "            nvowels += 1\n",
    "    \n",
    "    #manipulate the y in the first letter situation\n",
    "    if word[0]=='y':\n",
    "        nvowels -=1\n",
    "    #return the number of vowels and the consonants\n",
    "    return nvowels, len(word)-nvowels\n",
    "\n",
    "print(count_vec(\"Python\")) #Case1\n",
    "print(count_vec(\"bank\")) #Case2\n",
    "print(count_vec(\"hypothesis\")) #Case3\n",
    "print(count_vec(\"yes\")) #Case4\n"
   ]
  },
  {
   "cell_type": "markdown",
   "metadata": {},
   "source": [
    "## Question2"
   ]
  },
  {
   "cell_type": "markdown",
   "metadata": {},
   "source": [
    "decipher a password. The password is embedded in a sentence: read the first letter of each word, put all letters backward and capitalized yield the password.  Please write a function pwd_decode(sentence) function that return the password. "
   ]
  },
  {
   "cell_type": "code",
   "execution_count": 143,
   "metadata": {},
   "outputs": [],
   "source": [
    "#define function\n",
    "def pwd_decode(sentence):\n",
    "    #define letters\n",
    "    letters = \"\"\n",
    "    #split the sentence to word by empty space\n",
    "    words = sentence.split()\n",
    "    #select the first letter from all words and combine them backward\n",
    "    for word in words:\n",
    "        letters = word[0]+letters \n",
    "    #return the join and capitalized letters\n",
    "    return ''.join(letters).upper()"
   ]
  },
  {
   "cell_type": "code",
   "execution_count": 144,
   "metadata": {},
   "outputs": [
    {
     "name": "stdout",
     "output_type": "stream",
     "text": [
      "STSERMRAGNIRETTU\n"
     ]
    }
   ],
   "source": [
    "# Driver Code case1\n",
    "sentence1 = 'Uplifting tales told extremely rapidly in New Guinea and Romania may reveal each storyteller’s trade secrets.' \n",
    "print(pwd_decode(sentence1))"
   ]
  },
  {
   "cell_type": "code",
   "execution_count": 145,
   "metadata": {},
   "outputs": [
    {
     "name": "stdout",
     "output_type": "stream",
     "text": [
      "PMALCTA\n"
     ]
    }
   ],
   "source": [
    "# Driver Code case2\n",
    "sentence2 = 'Alligators that can launch airplanes may prosper.' \n",
    "print(pwd_decode(sentence2))"
   ]
  },
  {
   "cell_type": "code",
   "execution_count": 146,
   "metadata": {},
   "outputs": [
    {
     "name": "stdout",
     "output_type": "stream",
     "text": [
      "PLI\n"
     ]
    }
   ],
   "source": [
    "# Driver Code case3\n",
    "sentence3 = 'I love programming.' \n",
    "print(pwd_decode(sentence3))"
   ]
  },
  {
   "cell_type": "markdown",
   "metadata": {},
   "source": [
    "## Question3"
   ]
  },
  {
   "cell_type": "markdown",
   "metadata": {},
   "source": [
    "Given two words and you need to calculate the Jaccard similarity of the two words based on letters. For simplicity, letter “y” is always considered a vowel letter here. Write a function cos_vowel(word1, word2) that returns the Jaccard similarity score (round to 2 decimal places). "
   ]
  },
  {
   "cell_type": "code",
   "execution_count": 147,
   "metadata": {},
   "outputs": [
    {
     "name": "stdout",
     "output_type": "stream",
     "text": [
      "0.8\n",
      "0.25\n"
     ]
    }
   ],
   "source": [
    "def cos_vowel(word1, word2):\n",
    "    #change 2 words to unordered and unrepeatable iterables\n",
    "    s1 = set(word1) \n",
    "    s2 = set(word2)\n",
    "    #get length of intersection and union\n",
    "    intersection = len(s1&s2)\n",
    "    union = len(s1|s2)\n",
    "    return round(intersection/union,2)\n",
    "\n",
    "print(cos_vowel(\"word\", \"words\"))   # case 1\n",
    "print(cos_vowel(\"united\", \"states\"))  # case 2"
   ]
  },
  {
   "cell_type": "code",
   "execution_count": null,
   "metadata": {},
   "outputs": [],
   "source": []
  }
 ],
 "metadata": {
  "kernelspec": {
   "display_name": "Python 3",
   "language": "python",
   "name": "python3"
  },
  "language_info": {
   "codemirror_mode": {
    "name": "ipython",
    "version": 3
   },
   "file_extension": ".py",
   "mimetype": "text/x-python",
   "name": "python",
   "nbconvert_exporter": "python",
   "pygments_lexer": "ipython3",
   "version": "3.7.4"
  }
 },
 "nbformat": 4,
 "nbformat_minor": 2
}
